{
 "cells": [
  {
   "cell_type": "code",
   "execution_count": null,
   "metadata": {},
   "outputs": [],
   "source": [
    "%load_ext autoreload\n",
    "%autoreload 2\n",
    "%matplotlib widget\n",
    "\n",
    "import numpy as np\n",
    "import neurospyke as ns\n",
    "from scipy.io import loadmat\n",
    "import os\n",
    "import json\n",
    "import analysis\n",
    "import utils"
   ]
  },
  {
   "cell_type": "code",
   "execution_count": null,
   "metadata": {},
   "outputs": [],
   "source": [
    "f = open('settings.json')\n",
    "settings = json.load(f)\n",
    "f.close()\n",
    "\n",
    "resampling_frequency = settings['resampling_frequency']\n",
    "resampling_time = 1 / resampling_frequency\n",
    "\n",
    "group = settings['group']\n",
    "subject = settings['subject']\n",
    "conditions = settings['conditions']\n",
    "areas = list(settings['areas'].keys())\n",
    "n_channels = settings['n_channels']\n",
    "n_stimuli = settings['n_stimuli']\n",
    "n_components = settings['n_PCA_components']\n",
    "trial_duration = settings['trial_duration_view']\n",
    "trial_samples = np.round(trial_duration * resampling_frequency).astype(np.int_)\n",
    "\n",
    "data = loadmat(os.path.join('./output', group, subject, subject + '.mat'))\n",
    "IFR = data['data']\n",
    "IFR = IFR[:, :, :, 0:n_stimuli, 0:trial_samples]\n",
    "\n",
    "subject_information = utils.get_subject_information(group, subject)"
   ]
  },
  {
   "cell_type": "code",
   "execution_count": null,
   "metadata": {},
   "outputs": [],
   "source": [
    "# PCA for comparisons of the same area pre and post lesion: rototranslation matrix fixed for the area\n",
    "NPD = analysis.reduce_IFR_dimensions(IFR, n_components, fixed_field='areas')"
   ]
  },
  {
   "cell_type": "code",
   "execution_count": null,
   "metadata": {},
   "outputs": [],
   "source": [
    "# NPD for comparisons of the same area pre and post lesion\n",
    "analysis.plot_neural_population_dynamics(NPD, n_components, fixed_field='areas', title='Neural Population Dynamics - Fixed Areas\\n' + subject_information)"
   ]
  },
  {
   "cell_type": "code",
   "execution_count": null,
   "metadata": {},
   "outputs": [],
   "source": [
    "# NPD for comparisons of the same condition for P1 and P2 areas\n",
    "analysis.plot_neural_population_dynamics(NPD, n_components, fixed_field='conditions', title='Neural Population Dynamics - Fixed Conditions\\n' + subject_information)"
   ]
  }
 ],
 "metadata": {
  "kernelspec": {
   "display_name": "Python 3 (ipykernel)",
   "language": "python",
   "name": "python3"
  },
  "language_info": {
   "codemirror_mode": {
    "name": "ipython",
    "version": 3
   },
   "file_extension": ".py",
   "mimetype": "text/x-python",
   "name": "python",
   "nbconvert_exporter": "python",
   "pygments_lexer": "ipython3",
   "version": "3.8.12"
  },
  "vscode": {
   "interpreter": {
    "hash": "3fc1d4d9a4b8d1ca78615a41ddfacbb8f600609ddb4060fda222c774c81c18ab"
   }
  }
 },
 "nbformat": 4,
 "nbformat_minor": 2
}
