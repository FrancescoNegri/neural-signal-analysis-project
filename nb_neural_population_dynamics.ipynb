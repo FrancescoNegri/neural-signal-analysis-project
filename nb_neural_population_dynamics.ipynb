{
 "cells": [
  {
   "cell_type": "code",
   "execution_count": null,
   "metadata": {},
   "outputs": [],
   "source": [
    "%load_ext autoreload\n",
    "%autoreload 2\n",
    "%matplotlib widget\n",
    "\n",
    "import numpy as np\n",
    "import neurospyke as ns\n",
    "from scipy.io import loadmat\n",
    "import os\n",
    "import json\n",
    "from sklearn.decomposition import PCA"
   ]
  },
  {
   "cell_type": "code",
   "execution_count": null,
   "metadata": {},
   "outputs": [],
   "source": [
    "f = open('settings.json')\n",
    "settings = json.load(f)\n",
    "f.close()\n",
    "\n",
    "resampling_frequency = settings['resampling_frequency']\n",
    "resampling_time = 1 / resampling_frequency\n",
    "\n",
    "group = settings['group']\n",
    "subject = settings['subject']\n",
    "conditions = settings['conditions']\n",
    "areas = list(settings['areas'].keys())\n",
    "n_channels = settings['n_channels']\n",
    "n_stimuli = settings['n_stimuli']\n",
    "n_components = settings['n_PCA_components']\n",
    "trial_duration = settings['trial_duration_view']\n",
    "trial_samples = trial_duration * resampling_frequency\n",
    "trial_range = np.arange(trial_samples).astype(np.int_)\n",
    "\n",
    "data = loadmat(os.path.join('./output', group, subject, subject + '.mat'))\n",
    "IFR = data['data']"
   ]
  },
  {
   "cell_type": "code",
   "execution_count": null,
   "metadata": {},
   "outputs": [],
   "source": [
    "NPD = np.zeros([np.size(conditions), np.size(areas), n_components, np.size(IFR, axis=3), trial_samples])"
   ]
  },
  {
   "cell_type": "code",
   "execution_count": null,
   "metadata": {},
   "outputs": [],
   "source": [
    "for condition_idx in np.arange(np.size(conditions)):\n",
    "    for area_idx in np.arange(np.size(areas)):\n",
    "        IFR_trials = IFR[condition_idx, area_idx, :, :, 0:trial_samples]\n",
    "        IFR_mean_trials = np.mean(IFR_trials, axis=1)\n",
    "\n",
    "        my_pca = PCA(n_components)\n",
    "        my_pca.fit(np.transpose(IFR_mean_trials))\n",
    "\n",
    "        for trial_idx in np.arange(n_stimuli):\n",
    "            NPD[condition_idx, area_idx, :, trial_idx, :] = np.transpose(\n",
    "                my_pca.transform(\n",
    "                    np.transpose(IFR_trials[:, trial_idx, :])\n",
    "                )\n",
    "            )"
   ]
  },
  {
   "cell_type": "code",
   "execution_count": null,
   "metadata": {},
   "outputs": [],
   "source": [
    "fig = ns.visualization.pyplot.figure()\n",
    "axs_titles = ['P1 (pre-post)', 'P2 (pre-post)']\n",
    "\n",
    "if n_components == 3:\n",
    "    axs = [fig.add_subplot(121, projection='3d'), fig.add_subplot(122, projection='3d')]\n",
    "else:\n",
    "    axs = [fig.add_subplot(121), fig.add_subplot(122)]\n",
    "\n",
    "colors = ['#1F7508', '#FF0000']\n",
    "colors_markers = [['#194706', '#12230B'], ['#800606', '#780037']]\n",
    "\n",
    "for condition_idx in np.arange(np.size(conditions)):\n",
    "    color = colors[condition_idx]\n",
    "    for area_idx in np.arange(np.size(areas)):\n",
    "        ax = axs[area_idx]\n",
    "        for trial_idx in np.arange(n_stimuli):\n",
    "            if n_components == 3:\n",
    "                ax.plot(\n",
    "                    NPD[condition_idx, area_idx, 0, trial_idx, trial_range],\n",
    "                    NPD[condition_idx, area_idx, 1, trial_idx, trial_range],\n",
    "                    NPD[condition_idx, area_idx, 2, trial_idx, trial_range],\n",
    "                    color=color,\n",
    "                    linewidth=0.5\n",
    "                )\n",
    "                ax.scatter(\n",
    "                    NPD[condition_idx, area_idx, 0, trial_idx, trial_range[0]], \n",
    "                    NPD[condition_idx, area_idx, 1, trial_idx, trial_range[0]], \n",
    "                    NPD[condition_idx, area_idx, 2, trial_idx, trial_range[0]],\n",
    "                    color=colors_markers[condition_idx][0],\n",
    "                    s=8,\n",
    "                    marker='*',\n",
    "\n",
    "                )\n",
    "                ax.scatter(\n",
    "                    NPD[condition_idx, area_idx, 0, trial_idx, trial_range[-1]], \n",
    "                    NPD[condition_idx, area_idx, 1, trial_idx, trial_range[-1]], \n",
    "                    NPD[condition_idx, area_idx, 2, trial_idx, trial_range[-1]],\n",
    "                    color=colors_markers[condition_idx][1],\n",
    "                    s=8,\n",
    "                    marker='<'\n",
    "                )\n",
    "            else:    \n",
    "                ax.plot(\n",
    "                    NPD[condition_idx, area_idx, 0, trial_idx, trial_range],\n",
    "                    NPD[condition_idx, area_idx, 1, trial_idx, trial_range],\n",
    "                    color=color,\n",
    "                    linewidth=0.5\n",
    "                )\n",
    "                ax.scatter(\n",
    "                    NPD[condition_idx, area_idx, 0, trial_idx, trial_range[0]], \n",
    "                    NPD[condition_idx, area_idx, 1, trial_idx, trial_range[0]],\n",
    "                    color=colors_markers[condition_idx][0],\n",
    "                    s=8,\n",
    "                    marker='*',\n",
    "\n",
    "                )\n",
    "                ax.scatter(\n",
    "                    NPD[condition_idx, area_idx, 0, trial_idx, trial_range[-1]], \n",
    "                    NPD[condition_idx, area_idx, 1, trial_idx, trial_range[-1]],\n",
    "                    color=colors_markers[condition_idx][1],\n",
    "                    s=8,\n",
    "                    marker='<'\n",
    "                )\n",
    "        \n",
    "        ax.set_title(axs_titles[area_idx])\n",
    "\n",
    "ns.visualization.pyplot.tight_layout()"
   ]
  }
 ],
 "metadata": {
  "kernelspec": {
   "display_name": "Python 3 (ipykernel)",
   "language": "python",
   "name": "python3"
  },
  "language_info": {
   "codemirror_mode": {
    "name": "ipython",
    "version": 3
   },
   "file_extension": ".py",
   "mimetype": "text/x-python",
   "name": "python",
   "nbconvert_exporter": "python",
   "pygments_lexer": "ipython3",
   "version": "3.8.12"
  },
  "vscode": {
   "interpreter": {
    "hash": "3fc1d4d9a4b8d1ca78615a41ddfacbb8f600609ddb4060fda222c774c81c18ab"
   }
  }
 },
 "nbformat": 4,
 "nbformat_minor": 2
}
