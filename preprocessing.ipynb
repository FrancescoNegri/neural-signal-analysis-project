{
 "cells": [
  {
   "cell_type": "code",
   "execution_count": null,
   "metadata": {},
   "outputs": [],
   "source": [
    "%load_ext autoreload\n",
    "%autoreload 2\n",
    "%matplotlib widget\n",
    "\n",
    "import numpy as np\n",
    "import neurospyke as ns\n",
    "import h5py\n",
    "from scipy.io import savemat\n",
    "from scipy.signal import savgol_filter, butter, lfilter\n",
    "import matplotlib.pyplot as plt\n",
    "import os\n",
    "import shutil\n",
    "import preprocessing\n",
    "import json"
   ]
  },
  {
   "cell_type": "code",
   "execution_count": null,
   "metadata": {},
   "outputs": [],
   "source": [
    "f = open('settings.json')\n",
    "settings = json.load(f)\n",
    "f.close()\n",
    "\n",
    "sampling_frequency = settings['sampling_frequency']\n",
    "sampling_time = 1 / sampling_frequency\n",
    "signal_duration = settings['signal_duration']\n",
    "\n",
    "group = settings['group']\n",
    "subject = settings['subject']\n",
    "conditions = settings['conditions']\n",
    "areas = list(settings['areas'].keys())\n",
    "n_channels = settings['n_channels']\n",
    "n_stimuli = settings['n_stimuli']\n",
    "\n",
    "raw_data_paths = preprocessing.get_raw_data_paths(group, subject, conditions[0], areas)"
   ]
  },
  {
   "cell_type": "code",
   "execution_count": null,
   "metadata": {},
   "outputs": [],
   "source": [
    "# Stimulus Detection\n",
    "stimulus_idxs_matrix = preprocessing.get_stimulus_idxs_matrix(raw_data_paths, conditions[0], settings)\n",
    "stimulus_idxs = preprocessing.get_median_stimulus_idxs(stimulus_idxs_matrix, tolerance_duration=0.1, settings=settings)"
   ]
  },
  {
   "cell_type": "code",
   "execution_count": null,
   "metadata": {},
   "outputs": [],
   "source": [
    "# Analysis on a single channel, given the stimulus_idxs computed above\n",
    "f = h5py.File(os.path.join('./data', group, subject, conditions[0], 'Raw_P1_Ch_000.mat'))\n",
    "\n",
    "data = f['data'][:]\n",
    "data = np.reshape(data, np.size(data))\n",
    "data = data[np.arange(0, signal_duration * sampling_frequency)]\n",
    "raw_data = np.copy(data)"
   ]
  },
  {
   "cell_type": "code",
   "execution_count": null,
   "metadata": {},
   "outputs": [],
   "source": [
    "# SALPA\n",
    "data = np.copy(raw_data)\n",
    "_, ax = plt.subplots(2, 2)\n",
    "\n",
    "ns.visualization.plot_spikes(data, stimulus_idxs, ax=ax[0][0], sampling_time=sampling_time, title='Raw Data (with stimuli)')\n",
    "\n",
    "stimulus_samples = 160 # samples\n",
    "stimulus_half_samples = int(np.ceil(stimulus_samples / 2))\n",
    "stimulus_range = np.arange(-stimulus_half_samples, stimulus_half_samples)\n",
    "\n",
    "transient_duration = 0.7 # seconds\n",
    "transient_samples = int(np.ceil(transient_duration * sampling_frequency))\n",
    "transient_range = np.arange(stimulus_half_samples, stimulus_half_samples + transient_samples)\n",
    "transients = []\n",
    "\n",
    "for stimulus_idx in stimulus_idxs:\n",
    "    data[stimulus_idx + stimulus_range] = 0\n",
    "    transients.append(data[stimulus_idx + transient_range])\n",
    "\n",
    "ns.visualization.plot_spikes(data, stimulus_idxs, ax=ax[0][1], sampling_time=sampling_time, title='Data (without stimuli peaks)')\n",
    "\n",
    "mean_transient = np.mean(transients, 0)\n",
    "# ns.visualization.plot_raw_data(mean_transient)\n",
    "\n",
    "zero_idx = np.where(mean_transient >= 0)[0][0]\n",
    "extended_stimulus_range = np.arange(stimulus_half_samples, stimulus_half_samples + zero_idx)\n",
    "transients = []\n",
    "\n",
    "for stimulus_idx in stimulus_idxs:\n",
    "    data[stimulus_idx + extended_stimulus_range] = 0\n",
    "    transients.append(data[stimulus_idx + transient_range])\n",
    "\n",
    "ns.visualization.plot_spikes(data, stimulus_idxs, ax=ax[1][0], sampling_time=sampling_time, title='Data (with transient)')\n",
    "\n",
    "mean_transient = np.mean(transients, 0)\n",
    "mean_transient_smoothed = savgol_filter(mean_transient, 2001, 2)\n",
    "# ns.visualization.plot_raw_data(mean_transient)\n",
    "\n",
    "for stimulus_idx in stimulus_idxs:\n",
    "    data[stimulus_idx + transient_range] = data[stimulus_idx + transient_range] - mean_transient_smoothed\n",
    "\n",
    "ns.visualization.plot_spikes(data, stimulus_idxs, ax=ax[1][1], sampling_time=sampling_time, title='Data (without transient)')\n",
    "\n",
    "plt.tight_layout()"
   ]
  },
  {
   "cell_type": "code",
   "execution_count": null,
   "metadata": {},
   "outputs": [],
   "source": [
    "# Check SALPA transient\n",
    "_, ax = plt.subplots(1, 2)\n",
    "\n",
    "transient_std = np.std(transients, 0)\n",
    "ax[0].fill_between(transient_range * sampling_time, mean_transient - transient_std, mean_transient + transient_std, alpha=0.25)\n",
    "ns.visualization.plot_raw_data(mean_transient, ax=ax[0], sampling_time=sampling_time)\n",
    "plt.tight_layout()\n",
    "\n",
    "ns.visualization.plot_raw_data(mean_transient, ax=ax[1], sampling_time=sampling_time)\n",
    "ns.visualization.plot_raw_data(mean_transient_smoothed, ax=ax[1], sampling_time=sampling_time, color='#FF0000')\n",
    "ns.visualization.plot_raw_data(mean_transient - mean_transient_smoothed, ax=ax[1], sampling_time=sampling_time, color='#00FF00')"
   ]
  },
  {
   "cell_type": "code",
   "execution_count": null,
   "metadata": {},
   "outputs": [],
   "source": [
    "num, den = butter(2, [300, 7000], btype='bandpass', fs=sampling_frequency)\n",
    "filtered_data = lfilter(num, den, data)\n",
    "\n",
    "ns.visualization.plot_raw_data(filtered_data, sampling_time=sampling_time)"
   ]
  },
  {
   "cell_type": "code",
   "execution_count": null,
   "metadata": {},
   "outputs": [],
   "source": [
    "from scipy.stats import median_abs_deviation\n",
    "threshold = 4*1.4824*median_abs_deviation(filtered_data)\n",
    "spikes_idxs, _ = ns.spikes.hard_threshold_local_maxima(filtered_data, threshold, 0.001, use_abs=True, sampling_time=sampling_time)\n",
    "\n",
    "ns.visualization.plot_spikes(filtered_data, spikes_idxs, sampling_time=sampling_time)"
   ]
  },
  {
   "cell_type": "code",
   "execution_count": null,
   "metadata": {},
   "outputs": [],
   "source": [
    "# ns.visualization.plot_spike_train([spikes_idxs, stimulus_idxs], channel_labels=['Spikes', 'Stimuli'], color=['#000000', '#FF0000'], linewidth=0.15, sampling_time=sampling_time, figsize=(9, 1), dpi=100)\n",
    "\n",
    "save_path = './temp'\n",
    "if os.path.isdir(save_path):\n",
    "    shutil.rmtree(save_path)\n",
    "\n",
    "os.mkdir(save_path)\n",
    "\n",
    "ns.visualization.plot_spike_train([stimulus_idxs, spikes_idxs], sampling_time=sampling_time, figsize=(9, 3), dpi=75)\n",
    "spike_train = ns.utils.convert_spikes_idxs_to_spike_train(spikes_idxs, sampling_time, 155)\n"
   ]
  },
  {
   "cell_type": "code",
   "execution_count": null,
   "metadata": {},
   "outputs": [],
   "source": [
    "savemat(os.path.join(save_path, 'preprocessed_data' + '.mat'), {'spike_train': spike_train, 'stimulus_idxs': stimulus_idxs})"
   ]
  }
 ],
 "metadata": {
  "kernelspec": {
   "display_name": "Python 3.8.12 ('neural')",
   "language": "python",
   "name": "python3"
  },
  "language_info": {
   "codemirror_mode": {
    "name": "ipython",
    "version": 3
   },
   "file_extension": ".py",
   "mimetype": "text/x-python",
   "name": "python",
   "nbconvert_exporter": "python",
   "pygments_lexer": "ipython3",
   "version": "3.8.12"
  },
  "orig_nbformat": 4,
  "vscode": {
   "interpreter": {
    "hash": "9ef9e7ae9b4d818904e5c8b69015ea31eef94c26da0a769a5b722228cf91b838"
   }
  }
 },
 "nbformat": 4,
 "nbformat_minor": 2
}
